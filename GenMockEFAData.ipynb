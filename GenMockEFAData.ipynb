{
 "cells": [
  {
   "cell_type": "code",
   "execution_count": 1,
   "id": "c97d4fc3-fa50-44ac-a022-678bd74f5602",
   "metadata": {},
   "outputs": [],
   "source": [
    "import pandas as pd\n",
    "import numpy as np\n",
    "\n",
    "import seaborn as sns\n",
    "\n",
    "from factor_analyzer import FactorAnalyzer\n",
    "from factor_analyzer.factor_analyzer import calculate_bartlett_sphericity\n",
    "from factor_analyzer.factor_analyzer import calculate_kmo\n"
   ]
  },
  {
   "cell_type": "code",
   "execution_count": 2,
   "id": "fe69aea4-70fc-4470-9c57-530aec492e6c",
   "metadata": {},
   "outputs": [],
   "source": [
    "np.random.seed(101)\n",
    "\n",
    "n = 1100"
   ]
  },
  {
   "cell_type": "code",
   "execution_count": 3,
   "id": "5c0ee9a9-ad8a-4cd7-b24e-eb227e08505a",
   "metadata": {},
   "outputs": [],
   "source": [
    "factor1 = np.random.choice([1,2,3,4,5], size=n, p=[.05,.15,.30,.35,.15])\n",
    "factor2 = np.random.choice([1,2,3,4,5], size=n, p=[.05,.15,.30,.35,.15])\n",
    "factor3 = np.random.choice([1,2,3,4,5], size=n, p=[.05,.30,.30,.30,.05])\n",
    "\n",
    "df = pd.DataFrame({'factor1':factor1, 'factor2':factor2, 'factor3':factor3})\n",
    "\n",
    "for q in ['Q01','Q02','Q03','Q04']:\n",
    "    df[q] = df['factor1'] + np.random.choice([-2,-1,1,2], size=n)\n",
    "    df[q] = df[q].map({-1:2, 0:1, 1:1, 2:2, 3:3, 4:4, 5:5, 6:5, 7:4})\n",
    "\n",
    "for q in ['Q05','Q06','Q07','Q08']:\n",
    "    df[q] = df['factor2'] + np.random.choice([-2,-1,1,2], size=n)\n",
    "    df[q] = df[q].map({-1:2, 0:1, 1:1, 2:2, 3:3, 4:4, 5:5, 6:5, 7:4})\n",
    "\n",
    "for q in ['Q09','Q10','Q11','Q12']:\n",
    "    df[q] = df['factor3'] + np.random.choice([-2,-1,1,2], size=n)\n",
    "    df[q] = df[q].map({-1:2, 0:1, 1:1, 2:2, 3:3, 4:4, 5:5, 6:5, 7:4})"
   ]
  },
  {
   "cell_type": "code",
   "execution_count": 4,
   "id": "dfa49eef-b61d-4a21-bdca-f2cfa6548623",
   "metadata": {},
   "outputs": [],
   "source": [
    "factor1 = np.random.choice([1,2,3,4,5], size=n, p=[.05,.15,.30,.35,.15])\n",
    "factor2 = np.random.choice([1,2,3,4,5], size=n, p=[.05,.30,.35,.15,.15])\n",
    "factor3 = np.random.choice([1,2,3,4,5], size=n, p=[.10,.35,.25,.25,.05])\n",
    "\n",
    "df = pd.DataFrame({'factor1':factor1, 'factor2':factor2, 'factor3':factor3})\n",
    "\n",
    "for q in ['Q01','Q02','Q03','Q04']:\n",
    "    df[q] = df['factor1'] + np.random.choice([-2,-1,-1,0,0,0,1,1,2], size=n)\n",
    "    df[q] = df[q].map({-1:2, 0:1, 1:1, 2:2, 3:3, 4:4, 5:5, 6:5, 7:4})\n",
    "\n",
    "for q in ['Q05','Q06','Q07','Q08']:\n",
    "    df[q] = df['factor2'] + np.random.choice([-2,-1,-1,0,0,0,1,1,2], size=n)\n",
    "    df[q] = df[q].map({-1:2, 0:1, 1:1, 2:2, 3:3, 4:4, 5:5, 6:5, 7:4})\n",
    "\n",
    "for q in ['Q09','Q10','Q11','Q12']:\n",
    "    df[q] = df['factor3'] + np.random.choice([-2,-1,-1,0,0,0,1,1,2], size=n)\n",
    "    df[q] = df[q].map({-1:2, 0:1, 1:1, 2:2, 3:3, 4:4, 5:5, 6:5, 7:4})"
   ]
  },
  {
   "cell_type": "code",
   "execution_count": 5,
   "id": "1fe1662f-5b21-40ca-a0bf-91203fb5bad8",
   "metadata": {},
   "outputs": [
    {
     "data": {
      "text/html": [
       "<div>\n",
       "<style scoped>\n",
       "    .dataframe tbody tr th:only-of-type {\n",
       "        vertical-align: middle;\n",
       "    }\n",
       "\n",
       "    .dataframe tbody tr th {\n",
       "        vertical-align: top;\n",
       "    }\n",
       "\n",
       "    .dataframe thead th {\n",
       "        text-align: right;\n",
       "    }\n",
       "</style>\n",
       "<table border=\"1\" class=\"dataframe\">\n",
       "  <thead>\n",
       "    <tr style=\"text-align: right;\">\n",
       "      <th></th>\n",
       "      <th>factor1</th>\n",
       "      <th>factor2</th>\n",
       "      <th>factor3</th>\n",
       "      <th>Q01</th>\n",
       "      <th>Q02</th>\n",
       "      <th>Q03</th>\n",
       "      <th>Q04</th>\n",
       "      <th>Q05</th>\n",
       "      <th>Q06</th>\n",
       "      <th>Q07</th>\n",
       "      <th>Q08</th>\n",
       "      <th>Q09</th>\n",
       "      <th>Q10</th>\n",
       "      <th>Q11</th>\n",
       "      <th>Q12</th>\n",
       "    </tr>\n",
       "  </thead>\n",
       "  <tbody>\n",
       "    <tr>\n",
       "      <th>423</th>\n",
       "      <td>2</td>\n",
       "      <td>3</td>\n",
       "      <td>2</td>\n",
       "      <td>2</td>\n",
       "      <td>2</td>\n",
       "      <td>3</td>\n",
       "      <td>3</td>\n",
       "      <td>3</td>\n",
       "      <td>3</td>\n",
       "      <td>3</td>\n",
       "      <td>3</td>\n",
       "      <td>3</td>\n",
       "      <td>2</td>\n",
       "      <td>3</td>\n",
       "      <td>1</td>\n",
       "    </tr>\n",
       "    <tr>\n",
       "      <th>668</th>\n",
       "      <td>1</td>\n",
       "      <td>4</td>\n",
       "      <td>3</td>\n",
       "      <td>1</td>\n",
       "      <td>2</td>\n",
       "      <td>2</td>\n",
       "      <td>2</td>\n",
       "      <td>5</td>\n",
       "      <td>4</td>\n",
       "      <td>4</td>\n",
       "      <td>5</td>\n",
       "      <td>3</td>\n",
       "      <td>2</td>\n",
       "      <td>2</td>\n",
       "      <td>4</td>\n",
       "    </tr>\n",
       "    <tr>\n",
       "      <th>477</th>\n",
       "      <td>2</td>\n",
       "      <td>3</td>\n",
       "      <td>5</td>\n",
       "      <td>1</td>\n",
       "      <td>4</td>\n",
       "      <td>4</td>\n",
       "      <td>1</td>\n",
       "      <td>4</td>\n",
       "      <td>1</td>\n",
       "      <td>4</td>\n",
       "      <td>3</td>\n",
       "      <td>4</td>\n",
       "      <td>4</td>\n",
       "      <td>4</td>\n",
       "      <td>4</td>\n",
       "    </tr>\n",
       "    <tr>\n",
       "      <th>564</th>\n",
       "      <td>3</td>\n",
       "      <td>2</td>\n",
       "      <td>1</td>\n",
       "      <td>2</td>\n",
       "      <td>3</td>\n",
       "      <td>4</td>\n",
       "      <td>2</td>\n",
       "      <td>1</td>\n",
       "      <td>2</td>\n",
       "      <td>3</td>\n",
       "      <td>2</td>\n",
       "      <td>2</td>\n",
       "      <td>2</td>\n",
       "      <td>2</td>\n",
       "      <td>1</td>\n",
       "    </tr>\n",
       "  </tbody>\n",
       "</table>\n",
       "</div>"
      ],
      "text/plain": [
       "     factor1  factor2  factor3  Q01  Q02  Q03  Q04  Q05  Q06  Q07  Q08  Q09  \\\n",
       "423        2        3        2    2    2    3    3    3    3    3    3    3   \n",
       "668        1        4        3    1    2    2    2    5    4    4    5    3   \n",
       "477        2        3        5    1    4    4    1    4    1    4    3    4   \n",
       "564        3        2        1    2    3    4    2    1    2    3    2    2   \n",
       "\n",
       "     Q10  Q11  Q12  \n",
       "423    2    3    1  \n",
       "668    2    2    4  \n",
       "477    4    4    4  \n",
       "564    2    2    1  "
      ]
     },
     "execution_count": 5,
     "metadata": {},
     "output_type": "execute_result"
    }
   ],
   "source": [
    "df.sample(4)"
   ]
  },
  {
   "cell_type": "code",
   "execution_count": 6,
   "id": "3d3957f0-d964-49c3-8fa9-260a8b834352",
   "metadata": {},
   "outputs": [
    {
     "data": {
      "text/plain": [
       "<Axes: >"
      ]
     },
     "execution_count": 6,
     "metadata": {},
     "output_type": "execute_result"
    },
    {
     "data": {
      "image/png": "[encoded data removed]",
      "text/plain": [
       "<Figure size 640x480 with 2 Axes>"
      ]
     },
     "metadata": {},
     "output_type": "display_data"
    }
   ],
   "source": [
    "sns.heatmap(df.drop(['factor1','factor2','factor3'], axis=1).corr()  == 1.0)"
   ]
  },
  {
   "cell_type": "code",
   "execution_count": 7,
   "id": "64581aea-864c-4ec3-95f6-62e149c7a996",
   "metadata": {},
   "outputs": [
    {
     "data": {
      "text/plain": [
       "<Axes: >"
      ]
     },
     "execution_count": 7,
     "metadata": {},
     "output_type": "execute_result"
    },
    {
     "data": {
      "image/png": "[encoded data removed]",
      "text/plain": [
       "<Figure size 640x480 with 2 Axes>"
      ]
     },
     "metadata": {},
     "output_type": "display_data"
    }
   ],
   "source": [
    "sns.heatmap(df.corr())"
   ]
  },
  {
   "cell_type": "code",
   "execution_count": 8,
   "id": "0587ce0b-da84-4c9a-8d21-87e4680c01ad",
   "metadata": {},
   "outputs": [
    {
     "data": {
      "text/plain": [
       "(2824.864951198988, 0.0)"
      ]
     },
     "execution_count": 8,
     "metadata": {},
     "output_type": "execute_result"
    }
   ],
   "source": [
    "chi_square_value,p_value=calculate_bartlett_sphericity(df.drop(['factor1','factor2','factor3'], axis=1))\n",
    "chi_square_value, round(p_value, 5)"
   ]
  },
  {
   "cell_type": "code",
   "execution_count": 9,
   "id": "dbcca179-acd1-4b2b-a530-6b57d33d1e77",
   "metadata": {},
   "outputs": [
    {
     "data": {
      "text/plain": [
       "(2824.864951198988, 0.0)"
      ]
     },
     "execution_count": 9,
     "metadata": {},
     "output_type": "execute_result"
    }
   ],
   "source": [
    "kmo_all,kmo_model=calculate_kmo(df.drop(['factor1','factor2','factor3'], axis=1))\n",
    "chi_square_value, round(p_value, 5)"
   ]
  },
  {
   "cell_type": "code",
   "execution_count": 10,
   "id": "27084bc7-ef36-4e2c-9a03-de69f4983b46",
   "metadata": {},
   "outputs": [
    {
     "data": {
      "text/html": [
       "<div>\n",
       "<style scoped>\n",
       "    .dataframe tbody tr th:only-of-type {\n",
       "        vertical-align: middle;\n",
       "    }\n",
       "\n",
       "    .dataframe tbody tr th {\n",
       "        vertical-align: top;\n",
       "    }\n",
       "\n",
       "    .dataframe thead th {\n",
       "        text-align: right;\n",
       "    }\n",
       "</style>\n",
       "<table border=\"1\" class=\"dataframe\">\n",
       "  <thead>\n",
       "    <tr style=\"text-align: right;\">\n",
       "      <th></th>\n",
       "      <th>0</th>\n",
       "      <th>1</th>\n",
       "    </tr>\n",
       "  </thead>\n",
       "  <tbody>\n",
       "    <tr>\n",
       "      <th>0</th>\n",
       "      <td>2.335553</td>\n",
       "      <td>1.773139</td>\n",
       "    </tr>\n",
       "    <tr>\n",
       "      <th>1</th>\n",
       "      <td>2.313315</td>\n",
       "      <td>1.740028</td>\n",
       "    </tr>\n",
       "    <tr>\n",
       "      <th>2</th>\n",
       "      <td>2.190783</td>\n",
       "      <td>1.613779</td>\n",
       "    </tr>\n",
       "    <tr>\n",
       "      <th>3</th>\n",
       "      <td>0.681179</td>\n",
       "      <td>0.091552</td>\n",
       "    </tr>\n",
       "    <tr>\n",
       "      <th>4</th>\n",
       "      <td>0.637902</td>\n",
       "      <td>0.057507</td>\n",
       "    </tr>\n",
       "    <tr>\n",
       "      <th>5</th>\n",
       "      <td>0.609240</td>\n",
       "      <td>0.020421</td>\n",
       "    </tr>\n",
       "    <tr>\n",
       "      <th>6</th>\n",
       "      <td>0.581321</td>\n",
       "      <td>0.019814</td>\n",
       "    </tr>\n",
       "    <tr>\n",
       "      <th>7</th>\n",
       "      <td>0.575678</td>\n",
       "      <td>-0.003107</td>\n",
       "    </tr>\n",
       "    <tr>\n",
       "      <th>8</th>\n",
       "      <td>0.550119</td>\n",
       "      <td>-0.013140</td>\n",
       "    </tr>\n",
       "    <tr>\n",
       "      <th>9</th>\n",
       "      <td>0.525001</td>\n",
       "      <td>-0.040415</td>\n",
       "    </tr>\n",
       "    <tr>\n",
       "      <th>10</th>\n",
       "      <td>0.513946</td>\n",
       "      <td>-0.044312</td>\n",
       "    </tr>\n",
       "    <tr>\n",
       "      <th>11</th>\n",
       "      <td>0.485964</td>\n",
       "      <td>-0.088342</td>\n",
       "    </tr>\n",
       "  </tbody>\n",
       "</table>\n",
       "</div>"
      ],
      "text/plain": [
       "           0         1\n",
       "0   2.335553  1.773139\n",
       "1   2.313315  1.740028\n",
       "2   2.190783  1.613779\n",
       "3   0.681179  0.091552\n",
       "4   0.637902  0.057507\n",
       "5   0.609240  0.020421\n",
       "6   0.581321  0.019814\n",
       "7   0.575678 -0.003107\n",
       "8   0.550119 -0.013140\n",
       "9   0.525001 -0.040415\n",
       "10  0.513946 -0.044312\n",
       "11  0.485964 -0.088342"
      ]
     },
     "execution_count": 10,
     "metadata": {},
     "output_type": "execute_result"
    }
   ],
   "source": [
    "fa = FactorAnalyzer()\n",
    "fa.fit(df.drop(['factor1','factor2','factor3'], axis=1))\n",
    "\n",
    "pd.DataFrame(fa.get_eigenvalues()).T"
   ]
  },
  {
   "cell_type": "code",
   "execution_count": 11,
   "id": "f3f6172b-5fc5-4249-803b-de44d59a24f3",
   "metadata": {},
   "outputs": [
    {
     "data": {
      "text/html": [
       "<div>\n",
       "<style scoped>\n",
       "    .dataframe tbody tr th:only-of-type {\n",
       "        vertical-align: middle;\n",
       "    }\n",
       "\n",
       "    .dataframe tbody tr th {\n",
       "        vertical-align: top;\n",
       "    }\n",
       "\n",
       "    .dataframe thead th {\n",
       "        text-align: right;\n",
       "    }\n",
       "</style>\n",
       "<table border=\"1\" class=\"dataframe\">\n",
       "  <thead>\n",
       "    <tr style=\"text-align: right;\">\n",
       "      <th></th>\n",
       "      <th>0</th>\n",
       "      <th>1</th>\n",
       "      <th>2</th>\n",
       "    </tr>\n",
       "  </thead>\n",
       "  <tbody>\n",
       "    <tr>\n",
       "      <th>0</th>\n",
       "      <td>-0.001566</td>\n",
       "      <td>0.649339</td>\n",
       "      <td>-0.013696</td>\n",
       "    </tr>\n",
       "    <tr>\n",
       "      <th>1</th>\n",
       "      <td>-0.002655</td>\n",
       "      <td>0.689556</td>\n",
       "      <td>0.001655</td>\n",
       "    </tr>\n",
       "    <tr>\n",
       "      <th>2</th>\n",
       "      <td>-0.003421</td>\n",
       "      <td>0.619916</td>\n",
       "      <td>0.014349</td>\n",
       "    </tr>\n",
       "    <tr>\n",
       "      <th>3</th>\n",
       "      <td>0.009888</td>\n",
       "      <td>0.634535</td>\n",
       "      <td>-0.003185</td>\n",
       "    </tr>\n",
       "    <tr>\n",
       "      <th>4</th>\n",
       "      <td>0.640536</td>\n",
       "      <td>0.022378</td>\n",
       "      <td>-0.008480</td>\n",
       "    </tr>\n",
       "    <tr>\n",
       "      <th>5</th>\n",
       "      <td>0.675624</td>\n",
       "      <td>0.000915</td>\n",
       "      <td>-0.014782</td>\n",
       "    </tr>\n",
       "    <tr>\n",
       "      <th>6</th>\n",
       "      <td>0.685705</td>\n",
       "      <td>-0.028598</td>\n",
       "      <td>-0.009261</td>\n",
       "    </tr>\n",
       "    <tr>\n",
       "      <th>7</th>\n",
       "      <td>0.652475</td>\n",
       "      <td>0.005940</td>\n",
       "      <td>0.031820</td>\n",
       "    </tr>\n",
       "    <tr>\n",
       "      <th>8</th>\n",
       "      <td>-0.005883</td>\n",
       "      <td>0.009544</td>\n",
       "      <td>0.693441</td>\n",
       "    </tr>\n",
       "    <tr>\n",
       "      <th>9</th>\n",
       "      <td>0.024575</td>\n",
       "      <td>-0.025423</td>\n",
       "      <td>0.640364</td>\n",
       "    </tr>\n",
       "    <tr>\n",
       "      <th>10</th>\n",
       "      <td>-0.029854</td>\n",
       "      <td>0.025376</td>\n",
       "      <td>0.637051</td>\n",
       "    </tr>\n",
       "    <tr>\n",
       "      <th>11</th>\n",
       "      <td>0.010551</td>\n",
       "      <td>-0.008914</td>\n",
       "      <td>0.614056</td>\n",
       "    </tr>\n",
       "  </tbody>\n",
       "</table>\n",
       "</div>"
      ],
      "text/plain": [
       "           0         1         2\n",
       "0  -0.001566  0.649339 -0.013696\n",
       "1  -0.002655  0.689556  0.001655\n",
       "2  -0.003421  0.619916  0.014349\n",
       "3   0.009888  0.634535 -0.003185\n",
       "4   0.640536  0.022378 -0.008480\n",
       "5   0.675624  0.000915 -0.014782\n",
       "6   0.685705 -0.028598 -0.009261\n",
       "7   0.652475  0.005940  0.031820\n",
       "8  -0.005883  0.009544  0.693441\n",
       "9   0.024575 -0.025423  0.640364\n",
       "10 -0.029854  0.025376  0.637051\n",
       "11  0.010551 -0.008914  0.614056"
      ]
     },
     "execution_count": 11,
     "metadata": {},
     "output_type": "execute_result"
    }
   ],
   "source": [
    "pd.DataFrame(fa.loadings_)"
   ]
  },
  {
   "cell_type": "code",
   "execution_count": null,
   "id": "c54a6dbc-1844-48f0-9d95-d0343eea31bc",
   "metadata": {},
   "outputs": [],
   "source": []
  }
 ],
 "metadata": {
  "kernelspec": {
   "display_name": "Python 3 (ipykernel)",
   "language": "python",
   "name": "python3"
  },
  "language_info": {
   "codemirror_mode": {
    "name": "ipython",
    "version": 3
   },
   "file_extension": ".py",
   "mimetype": "text/x-python",
   "name": "python",
   "nbconvert_exporter": "python",
   "pygments_lexer": "ipython3",
   "version": "3.12.4"
  }
 },
 "nbformat": 4,
 "nbformat_minor": 5
}
